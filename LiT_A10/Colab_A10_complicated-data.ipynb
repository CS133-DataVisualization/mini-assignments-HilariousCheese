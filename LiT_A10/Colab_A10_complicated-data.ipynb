{
 "cells": [
  {
   "cell_type": "markdown",
   "metadata": {
    "id": "-AqiLKPR3r6d"
   },
   "source": [
    "# Working with complicated dataset"
   ]
  },
  {
   "cell_type": "markdown",
   "metadata": {
    "id": "uZ0oeT3-S5iq"
   },
   "source": [
    "Your name: Tak Sum Li"
   ]
  },
  {
   "cell_type": "markdown",
   "metadata": {
    "id": "tio0jU9Y3r6h"
   },
   "source": [
    "### Question 1\n",
    "\n",
    "blast_results: https://raw.githubusercontent.com/csbfx/advpy122-data/master/blast_results.csv\n",
    "\n",
    "Read in the data from the csv file above. Skip all the comment lines, create a header for the dataframe based on the fields list in the comment line that starts with **# Fields:**. Drop the first column `query acc.ver`. Set the `subject acc.ver` as the index of the dataframe. The last column of the dataframe should be `publications`. Show the first five rows of the resulting dataframe."
   ]
  },
  {
   "cell_type": "code",
   "execution_count": 63,
   "metadata": {
    "id": "zkhws8KT3r6i"
   },
   "outputs": [
    {
     "name": "stdout",
     "output_type": "stream",
     "text": [
      "['query acc.ver', 'subject acc.ver', '% identity', 'alignment length', 'mismatches', 'gap opens', 'q. start', 'q. end', 's. start', 's. end', 'evalue', 'bit score', '% positives', 'bonds', 'publications']\n"
     ]
    }
   ],
   "source": [
    "### Your code here . . .\n",
    "import pandas as pd\n",
    "import seaborn as sns\n",
    "import matplotlib.pyplot as plt\n",
    "\n",
    "csv = \"https://raw.githubusercontent.com/csbfx/advpy122-data/master/blast_results.csv\"\n",
    "field = pd.read_csv(csv, comment = \"#\")\n",
    "header = field.columns[0]\n",
    "header = header.replace(\"# Fields: \",\"\").split(\", \")\n",
    "print (header)\n"
   ]
  },
  {
   "cell_type": "code",
   "execution_count": 64,
   "metadata": {},
   "outputs": [
    {
     "data": {
      "text/html": [
       "<div>\n",
       "<style scoped>\n",
       "    .dataframe tbody tr th:only-of-type {\n",
       "        vertical-align: middle;\n",
       "    }\n",
       "\n",
       "    .dataframe tbody tr th {\n",
       "        vertical-align: top;\n",
       "    }\n",
       "\n",
       "    .dataframe thead th {\n",
       "        text-align: right;\n",
       "    }\n",
       "</style>\n",
       "<table border=\"1\" class=\"dataframe\">\n",
       "  <thead>\n",
       "    <tr style=\"text-align: right;\">\n",
       "      <th></th>\n",
       "      <th>% identity</th>\n",
       "      <th>alignment length</th>\n",
       "      <th>mismatches</th>\n",
       "      <th>gap opens</th>\n",
       "      <th>q. start</th>\n",
       "      <th>q. end</th>\n",
       "      <th>s. start</th>\n",
       "      <th>s. end</th>\n",
       "      <th>evalue</th>\n",
       "      <th>bit score</th>\n",
       "      <th>% positives</th>\n",
       "      <th>bonds</th>\n",
       "      <th>publications</th>\n",
       "    </tr>\n",
       "    <tr>\n",
       "      <th>subject acc.ver</th>\n",
       "      <th></th>\n",
       "      <th></th>\n",
       "      <th></th>\n",
       "      <th></th>\n",
       "      <th></th>\n",
       "      <th></th>\n",
       "      <th></th>\n",
       "      <th></th>\n",
       "      <th></th>\n",
       "      <th></th>\n",
       "      <th></th>\n",
       "      <th></th>\n",
       "      <th></th>\n",
       "    </tr>\n",
       "  </thead>\n",
       "  <tbody>\n",
       "    <tr>\n",
       "      <th>NP_904328.1</th>\n",
       "      <td>100.000</td>\n",
       "      <td>318</td>\n",
       "      <td>0</td>\n",
       "      <td>0</td>\n",
       "      <td>1</td>\n",
       "      <td>318</td>\n",
       "      <td>1</td>\n",
       "      <td>318</td>\n",
       "      <td>0</td>\n",
       "      <td>629</td>\n",
       "      <td>100.00</td>\n",
       "      <td>1,487</td>\n",
       "      <td>9.0</td>\n",
       "    </tr>\n",
       "    <tr>\n",
       "      <th>AGK29621.1</th>\n",
       "      <td>99.686</td>\n",
       "      <td>318</td>\n",
       "      <td>1</td>\n",
       "      <td>0</td>\n",
       "      <td>1</td>\n",
       "      <td>318</td>\n",
       "      <td>1</td>\n",
       "      <td>318</td>\n",
       "      <td>0</td>\n",
       "      <td>629</td>\n",
       "      <td>100.00</td>\n",
       "      <td>17,947</td>\n",
       "      <td>47.0</td>\n",
       "    </tr>\n",
       "    <tr>\n",
       "      <th>YP_220563.1</th>\n",
       "      <td>99.686</td>\n",
       "      <td>318</td>\n",
       "      <td>1</td>\n",
       "      <td>0</td>\n",
       "      <td>1</td>\n",
       "      <td>318</td>\n",
       "      <td>1</td>\n",
       "      <td>318</td>\n",
       "      <td>0</td>\n",
       "      <td>627</td>\n",
       "      <td>100.00</td>\n",
       "      <td>12,106</td>\n",
       "      <td>13.0</td>\n",
       "    </tr>\n",
       "    <tr>\n",
       "      <th>ACM24502.1</th>\n",
       "      <td>99.686</td>\n",
       "      <td>318</td>\n",
       "      <td>1</td>\n",
       "      <td>0</td>\n",
       "      <td>1</td>\n",
       "      <td>318</td>\n",
       "      <td>1</td>\n",
       "      <td>318</td>\n",
       "      <td>0</td>\n",
       "      <td>627</td>\n",
       "      <td>99.69</td>\n",
       "      <td>2,319</td>\n",
       "      <td>41.0</td>\n",
       "    </tr>\n",
       "    <tr>\n",
       "      <th>AHG32084.1</th>\n",
       "      <td>99.371</td>\n",
       "      <td>318</td>\n",
       "      <td>2</td>\n",
       "      <td>0</td>\n",
       "      <td>1</td>\n",
       "      <td>318</td>\n",
       "      <td>1</td>\n",
       "      <td>318</td>\n",
       "      <td>0</td>\n",
       "      <td>627</td>\n",
       "      <td>100.00</td>\n",
       "      <td>18,964</td>\n",
       "      <td>3.0</td>\n",
       "    </tr>\n",
       "  </tbody>\n",
       "</table>\n",
       "</div>"
      ],
      "text/plain": [
       "                 % identity  alignment length  mismatches  gap opens  \\\n",
       "subject acc.ver                                                        \n",
       "NP_904328.1         100.000               318           0          0   \n",
       "AGK29621.1           99.686               318           1          0   \n",
       "YP_220563.1          99.686               318           1          0   \n",
       "ACM24502.1           99.686               318           1          0   \n",
       "AHG32084.1           99.371               318           2          0   \n",
       "\n",
       "                 q. start  q. end  s. start  s. end  evalue  bit score  \\\n",
       "subject acc.ver                                                          \n",
       "NP_904328.1             1     318         1     318       0        629   \n",
       "AGK29621.1              1     318         1     318       0        629   \n",
       "YP_220563.1             1     318         1     318       0        627   \n",
       "ACM24502.1              1     318         1     318       0        627   \n",
       "AHG32084.1              1     318         1     318       0        627   \n",
       "\n",
       "                 % positives     bonds  publications  \n",
       "subject acc.ver                                       \n",
       "NP_904328.1           100.00    1,487            9.0  \n",
       "AGK29621.1            100.00   17,947           47.0  \n",
       "YP_220563.1           100.00   12,106           13.0  \n",
       "ACM24502.1             99.69    2,319           41.0  \n",
       "AHG32084.1            100.00   18,964            3.0  "
      ]
     },
     "execution_count": 64,
     "metadata": {},
     "output_type": "execute_result"
    }
   ],
   "source": [
    "df = pd.read_csv(csv,\n",
    "                 names = header,\n",
    "                 usecols = header,\n",
    "                 comment = '#',\n",
    "                 skiprows=7,\n",
    "                 na_values = ['-'])\n",
    "df.drop(columns = 'query acc.ver', inplace = True)\n",
    "df.set_index('subject acc.ver', inplace = True)\n",
    "df.head()"
   ]
  },
  {
   "cell_type": "markdown",
   "metadata": {
    "id": "aHNeMncr3r6j"
   },
   "source": [
    "### Question 2\n",
    "What is the average number of publications?"
   ]
  },
  {
   "cell_type": "code",
   "execution_count": 65,
   "metadata": {
    "id": "Q1JK-hYw3r6j"
   },
   "outputs": [
    {
     "data": {
      "text/plain": [
       "26.18"
      ]
     },
     "execution_count": 65,
     "metadata": {},
     "output_type": "execute_result"
    }
   ],
   "source": [
    "### Your code here . . .\n",
    "df.isna().sum() #since we converted '-' to n/a\n",
    "df[\"publications\"] = df[\"publications\"].fillna(0) #fill n/a values to 0\n",
    "df.publications.mean()"
   ]
  },
  {
   "cell_type": "markdown",
   "metadata": {
    "id": "r4gRR96y3r6k"
   },
   "source": [
    "### Question 3\n",
    "List the `subject acc.ver` that has over 15,000 bonds."
   ]
  },
  {
   "cell_type": "code",
   "execution_count": 66,
   "metadata": {
    "id": "pLKiddab3r6k"
   },
   "outputs": [
    {
     "data": {
      "text/plain": [
       "Index(['AGK29621.1', 'AHG32084.1', '6G2J_H', 'YP_002791042.1', 'AGK29634.1',\n",
       "       '0806162F', 'YP_009112408.1', 'YP_001876469.1', 'YP_009092269.1',\n",
       "       'AHG32149.1', 'YP_009092074.1', 'YP_009450474.1', 'YP_004123270.1',\n",
       "       'YP_009092073.1', 'AHZ60901.1', 'YP_004123350.1', 'YP_009453754.1',\n",
       "       'ADD46492.1', 'YP_007025968.1', 'YP_009453806.1', 'YP_007024956.1',\n",
       "       'ASM92364.1', 'YP_006073044.1', 'ASM92494.1', 'ADG95699.1',\n",
       "       'YP_004891275.1', 'YP_009166014.1', 'YP_009538416.1', 'YP_009414182.1',\n",
       "       'YP_009178854.1', 'YP_009414415.1', 'YP_009353908.1', 'YP_009093743.1',\n",
       "       'ABX45285.1', 'YP_009414156.1', 'YP_009414363.1'],\n",
       "      dtype='object', name='subject acc.ver')"
      ]
     },
     "execution_count": 66,
     "metadata": {},
     "output_type": "execute_result"
    }
   ],
   "source": [
    "### Your code here . . .\n",
    "df['bonds'] = pd.to_numeric(df['bonds'].str.replace(',', ''), errors = 'coerce')\n",
    "df[df['bonds'] > 15000].index\n",
    "\n"
   ]
  },
  {
   "cell_type": "markdown",
   "metadata": {
    "id": "H56QTFYU3r6l"
   },
   "source": [
    "### Question 4\n",
    "Create a plot that shows the correlation between `% identity` and `% positives`."
   ]
  },
  {
   "cell_type": "code",
   "execution_count": 70,
   "metadata": {
    "id": "YD3IBzmG3r6l"
   },
   "outputs": [
    {
     "data": {
      "image/png": "[encoded data removed]",
      "text/plain": [
       "<Figure size 500x500 with 1 Axes>"
      ]
     },
     "metadata": {},
     "output_type": "display_data"
    }
   ],
   "source": [
    "### Your code here . . .\n",
    "sns.lmplot(\n",
    "    data = df, \n",
    "    x = '% identity',\n",
    "    y = '% positives'\n",
    ")\n",
    "\n",
    "plt.title(\"Correlation between % identity and % positives\")\n",
    "plt.show()\n"
   ]
  },
  {
   "cell_type": "markdown",
   "metadata": {
    "id": "pEUJxhad3r6m"
   },
   "source": [
    "### Question  5\n",
    "Add a column `Protein source` to the dataframe from Question 1 based on the data in this csv file: https://raw.githubusercontent.com/csbfx/advpy122-data/master/protein_source.csv. Merge the data when the `subject acc.ver` from the dataframe equals to `Protein` in the csv file. Entries without a matching protein will have `NA` as `Protein source`."
   ]
  },
  {
   "cell_type": "code",
   "execution_count": 77,
   "metadata": {
    "id": "xzIwyECv3r6m"
   },
   "outputs": [
    {
     "data": {
      "text/html": [
       "<div>\n",
       "<style scoped>\n",
       "    .dataframe tbody tr th:only-of-type {\n",
       "        vertical-align: middle;\n",
       "    }\n",
       "\n",
       "    .dataframe tbody tr th {\n",
       "        vertical-align: top;\n",
       "    }\n",
       "\n",
       "    .dataframe thead th {\n",
       "        text-align: right;\n",
       "    }\n",
       "</style>\n",
       "<table border=\"1\" class=\"dataframe\">\n",
       "  <thead>\n",
       "    <tr style=\"text-align: right;\">\n",
       "      <th></th>\n",
       "      <th>% identity</th>\n",
       "      <th>alignment length</th>\n",
       "      <th>mismatches</th>\n",
       "      <th>gap opens</th>\n",
       "      <th>q. start</th>\n",
       "      <th>q. end</th>\n",
       "      <th>s. start</th>\n",
       "      <th>s. end</th>\n",
       "      <th>evalue</th>\n",
       "      <th>bit score</th>\n",
       "      <th>% positives</th>\n",
       "      <th>bonds</th>\n",
       "      <th>publications</th>\n",
       "      <th>Protein</th>\n",
       "      <th>Protein source</th>\n",
       "    </tr>\n",
       "  </thead>\n",
       "  <tbody>\n",
       "    <tr>\n",
       "      <th>0</th>\n",
       "      <td>100.000</td>\n",
       "      <td>318</td>\n",
       "      <td>0</td>\n",
       "      <td>0</td>\n",
       "      <td>1</td>\n",
       "      <td>318</td>\n",
       "      <td>1</td>\n",
       "      <td>318</td>\n",
       "      <td>0</td>\n",
       "      <td>629</td>\n",
       "      <td>100.00</td>\n",
       "      <td>1487</td>\n",
       "      <td>9.0</td>\n",
       "      <td>NP_904328.1</td>\n",
       "      <td>RefSeq</td>\n",
       "    </tr>\n",
       "    <tr>\n",
       "      <th>1</th>\n",
       "      <td>99.686</td>\n",
       "      <td>318</td>\n",
       "      <td>1</td>\n",
       "      <td>0</td>\n",
       "      <td>1</td>\n",
       "      <td>318</td>\n",
       "      <td>1</td>\n",
       "      <td>318</td>\n",
       "      <td>0</td>\n",
       "      <td>629</td>\n",
       "      <td>100.00</td>\n",
       "      <td>17947</td>\n",
       "      <td>47.0</td>\n",
       "      <td>AGK29621.1</td>\n",
       "      <td>NA</td>\n",
       "    </tr>\n",
       "    <tr>\n",
       "      <th>2</th>\n",
       "      <td>99.686</td>\n",
       "      <td>318</td>\n",
       "      <td>1</td>\n",
       "      <td>0</td>\n",
       "      <td>1</td>\n",
       "      <td>318</td>\n",
       "      <td>1</td>\n",
       "      <td>318</td>\n",
       "      <td>0</td>\n",
       "      <td>627</td>\n",
       "      <td>100.00</td>\n",
       "      <td>12106</td>\n",
       "      <td>13.0</td>\n",
       "      <td>YP_220563.1</td>\n",
       "      <td>GenPept</td>\n",
       "    </tr>\n",
       "    <tr>\n",
       "      <th>3</th>\n",
       "      <td>99.686</td>\n",
       "      <td>318</td>\n",
       "      <td>1</td>\n",
       "      <td>0</td>\n",
       "      <td>1</td>\n",
       "      <td>318</td>\n",
       "      <td>1</td>\n",
       "      <td>318</td>\n",
       "      <td>0</td>\n",
       "      <td>627</td>\n",
       "      <td>99.69</td>\n",
       "      <td>2319</td>\n",
       "      <td>41.0</td>\n",
       "      <td>ACM24502.1</td>\n",
       "      <td>NA</td>\n",
       "    </tr>\n",
       "    <tr>\n",
       "      <th>4</th>\n",
       "      <td>99.371</td>\n",
       "      <td>318</td>\n",
       "      <td>2</td>\n",
       "      <td>0</td>\n",
       "      <td>1</td>\n",
       "      <td>318</td>\n",
       "      <td>1</td>\n",
       "      <td>318</td>\n",
       "      <td>0</td>\n",
       "      <td>627</td>\n",
       "      <td>100.00</td>\n",
       "      <td>18964</td>\n",
       "      <td>3.0</td>\n",
       "      <td>AHG32084.1</td>\n",
       "      <td>NA</td>\n",
       "    </tr>\n",
       "    <tr>\n",
       "      <th>...</th>\n",
       "      <td>...</td>\n",
       "      <td>...</td>\n",
       "      <td>...</td>\n",
       "      <td>...</td>\n",
       "      <td>...</td>\n",
       "      <td>...</td>\n",
       "      <td>...</td>\n",
       "      <td>...</td>\n",
       "      <td>...</td>\n",
       "      <td>...</td>\n",
       "      <td>...</td>\n",
       "      <td>...</td>\n",
       "      <td>...</td>\n",
       "      <td>...</td>\n",
       "      <td>...</td>\n",
       "    </tr>\n",
       "    <tr>\n",
       "      <th>95</th>\n",
       "      <td>92.767</td>\n",
       "      <td>318</td>\n",
       "      <td>23</td>\n",
       "      <td>0</td>\n",
       "      <td>1</td>\n",
       "      <td>318</td>\n",
       "      <td>1</td>\n",
       "      <td>318</td>\n",
       "      <td>0</td>\n",
       "      <td>551</td>\n",
       "      <td>97.48</td>\n",
       "      <td>17348</td>\n",
       "      <td>6.0</td>\n",
       "      <td>ABX45285.1</td>\n",
       "      <td>NA</td>\n",
       "    </tr>\n",
       "    <tr>\n",
       "      <th>96</th>\n",
       "      <td>93.375</td>\n",
       "      <td>317</td>\n",
       "      <td>21</td>\n",
       "      <td>0</td>\n",
       "      <td>1</td>\n",
       "      <td>317</td>\n",
       "      <td>1</td>\n",
       "      <td>317</td>\n",
       "      <td>0</td>\n",
       "      <td>551</td>\n",
       "      <td>96.85</td>\n",
       "      <td>7105</td>\n",
       "      <td>19.0</td>\n",
       "      <td>ASP44815.1</td>\n",
       "      <td>NA</td>\n",
       "    </tr>\n",
       "    <tr>\n",
       "      <th>97</th>\n",
       "      <td>84.543</td>\n",
       "      <td>317</td>\n",
       "      <td>49</td>\n",
       "      <td>0</td>\n",
       "      <td>1</td>\n",
       "      <td>317</td>\n",
       "      <td>1</td>\n",
       "      <td>317</td>\n",
       "      <td>0</td>\n",
       "      <td>551</td>\n",
       "      <td>94.01</td>\n",
       "      <td>18940</td>\n",
       "      <td>37.0</td>\n",
       "      <td>YP_009414156.1</td>\n",
       "      <td>GenPept</td>\n",
       "    </tr>\n",
       "    <tr>\n",
       "      <th>98</th>\n",
       "      <td>85.174</td>\n",
       "      <td>317</td>\n",
       "      <td>47</td>\n",
       "      <td>0</td>\n",
       "      <td>1</td>\n",
       "      <td>317</td>\n",
       "      <td>1</td>\n",
       "      <td>317</td>\n",
       "      <td>0</td>\n",
       "      <td>551</td>\n",
       "      <td>94.01</td>\n",
       "      <td>18762</td>\n",
       "      <td>5.0</td>\n",
       "      <td>YP_009414363.1</td>\n",
       "      <td>GenPept</td>\n",
       "    </tr>\n",
       "    <tr>\n",
       "      <th>99</th>\n",
       "      <td>92.744</td>\n",
       "      <td>317</td>\n",
       "      <td>23</td>\n",
       "      <td>0</td>\n",
       "      <td>1</td>\n",
       "      <td>317</td>\n",
       "      <td>1</td>\n",
       "      <td>317</td>\n",
       "      <td>0</td>\n",
       "      <td>551</td>\n",
       "      <td>97.79</td>\n",
       "      <td>3209</td>\n",
       "      <td>32.0</td>\n",
       "      <td>AGS12808.1</td>\n",
       "      <td>NA</td>\n",
       "    </tr>\n",
       "  </tbody>\n",
       "</table>\n",
       "<p>100 rows × 15 columns</p>\n",
       "</div>"
      ],
      "text/plain": [
       "    % identity  alignment length  mismatches  gap opens  q. start  q. end  \\\n",
       "0      100.000               318           0          0         1     318   \n",
       "1       99.686               318           1          0         1     318   \n",
       "2       99.686               318           1          0         1     318   \n",
       "3       99.686               318           1          0         1     318   \n",
       "4       99.371               318           2          0         1     318   \n",
       "..         ...               ...         ...        ...       ...     ...   \n",
       "95      92.767               318          23          0         1     318   \n",
       "96      93.375               317          21          0         1     317   \n",
       "97      84.543               317          49          0         1     317   \n",
       "98      85.174               317          47          0         1     317   \n",
       "99      92.744               317          23          0         1     317   \n",
       "\n",
       "    s. start  s. end  evalue  bit score  % positives  bonds  publications  \\\n",
       "0          1     318       0        629       100.00   1487           9.0   \n",
       "1          1     318       0        629       100.00  17947          47.0   \n",
       "2          1     318       0        627       100.00  12106          13.0   \n",
       "3          1     318       0        627        99.69   2319          41.0   \n",
       "4          1     318       0        627       100.00  18964           3.0   \n",
       "..       ...     ...     ...        ...          ...    ...           ...   \n",
       "95         1     318       0        551        97.48  17348           6.0   \n",
       "96         1     317       0        551        96.85   7105          19.0   \n",
       "97         1     317       0        551        94.01  18940          37.0   \n",
       "98         1     317       0        551        94.01  18762           5.0   \n",
       "99         1     317       0        551        97.79   3209          32.0   \n",
       "\n",
       "           Protein Protein source  \n",
       "0      NP_904328.1         RefSeq  \n",
       "1       AGK29621.1             NA  \n",
       "2      YP_220563.1        GenPept  \n",
       "3       ACM24502.1             NA  \n",
       "4       AHG32084.1             NA  \n",
       "..             ...            ...  \n",
       "95      ABX45285.1             NA  \n",
       "96      ASP44815.1             NA  \n",
       "97  YP_009414156.1        GenPept  \n",
       "98  YP_009414363.1        GenPept  \n",
       "99      AGS12808.1             NA  \n",
       "\n",
       "[100 rows x 15 columns]"
      ]
     },
     "execution_count": 77,
     "metadata": {},
     "output_type": "execute_result"
    }
   ],
   "source": [
    "### Your code here . . .\n",
    "protein_df = pd.read_csv('https://raw.githubusercontent.com/csbfx/advpy122-data/master/protein_source.csv')\n",
    "protein_df.drop(columns = 'Unnamed: 0', inplace = True)\n",
    "\n",
    "merged_df = df.merge(protein_df, left_index = True, right_on = 'Protein', how = 'left')\n",
    "merged_df.rename(columns={'Source': 'Protein source'}, inplace = True)\n",
    "merged_df['Protein source'] = merged_df['Protein source'].fillna('NA')\n",
    "merged_df.reset_index(drop = True, inplace=True)\n",
    "merged_df\n"
   ]
  }
 ],
 "metadata": {
  "colab": {
   "provenance": [
    {
     "file_id": "1mT0d5EQ_JnPEsGnthjkQoWvSvD3Pp3Pk",
     "timestamp": 1728485484043
    }
   ]
  },
  "kernelspec": {
   "display_name": "base",
   "language": "python",
   "name": "python3"
  },
  "language_info": {
   "codemirror_mode": {
    "name": "ipython",
    "version": 3
   },
   "file_extension": ".py",
   "mimetype": "text/x-python",
   "name": "python",
   "nbconvert_exporter": "python",
   "pygments_lexer": "ipython3",
   "version": "3.12.4"
  }
 },
 "nbformat": 4,
 "nbformat_minor": 0
}
